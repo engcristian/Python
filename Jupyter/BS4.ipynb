{
 "cells": [
  {
   "cell_type": "markdown",
   "metadata": {},
   "source": [
    "___\n",
    "# Capítulo 8 - Coletando dados na internet com BeautifulSoup\n",
    "\n",
    "## Seção 1 - Introdução ao BeautifulSoup e a raspagem de dados\n",
    "___"
   ]
  },
  {
   "cell_type": "code",
   "execution_count": null,
   "metadata": {
    "collapsed": true
   },
   "outputs": [],
   "source": [
    "from bs4 import BeautifulSoup"
   ]
  },
  {
   "cell_type": "markdown",
   "metadata": {},
   "source": [
    "### O objeto BeautifulSoup"
   ]
  },
  {
   "cell_type": "code",
   "execution_count": null,
   "metadata": {
    "collapsed": true
   },
   "outputs": [],
   "source": [
    "doc_html = '''\n",
    "<html><head><title>Pizza de Dados</title></head>\n",
    "<body>\n",
    "<section id=\"about\">\n",
    "         <div class=\"user-details\">\n",
    "  <p class='title'> Sobre o Pizza de Dados </p>\n",
    "  <p> O Pizza de Dados é uma iniciativa de 3 apaixonados por ciência de dados que viviam discutindo assuntos, links e conselhos de carreira. A vontade de aprender mais e compartilhar conhecimento era comum a todos e a ausência de um canal em português para tratar desses temas, levou à ideia de formar o pizza de dados.</p>\n",
    "\n",
    "  <p> O nome é uma espécie de “homenagem” ao repositório datascience.pizza, que se tornou em pouco tempo uma referência de material de estudos de ciência de dados em português.</p>\n",
    "\n",
    "  <p> Por ser algo feito de forma simples e leve por pessoas que normalmente se enfiam em muitos projetos ao mesmo tempo, o Pizza de Dados tem 3 regras básicas:</p>\n",
    "\n",
    "<ol>\n",
    "    <li>Só vamos fazer isso enquanto estiver divertido para todos;</li>\n",
    "    <li>Não vamos fazer por pressão (de datas, de publicação, de frequência…);</li>\n",
    "    <li>Nem todos os pizzaiolos originais devem estar em um episódio.</li>\n",
    "</ol>\n",
    "\n",
    "  <p> Esperamos que você se divirta, nos dê feedback e aprenda um pouquinho! </p>\n",
    "</div>\n",
    "\n",
    "      </section>\n",
    "    <div class=\"header-links\">\n",
    "        <a class=\"link\" href=\"#about\" data-scroll=\"\">Sobre</a>\n",
    "        <a class=\"link\" href=\"#pizzaiolos\" data-scroll=\"\">Quem somos</a>\n",
    "        <a class=\"link\" target=\"_blank\" href=\"https://medium.com/pizzadedados\">Revista</a>\n",
    "        <a class=\"link\" target=\"_blank\" href=\"https://podcast.pizzadedados.com/\">Episódios</a>\n",
    "        <a class=\"link\" href=\"#vemcomagente\" data-scroll=\"\">Assine</a>\n",
    "        <a class=\"link\" href=\"#vemcomagente\" data-scroll=\"\">Apoie</a>\n",
    "      </div>\n",
    "'''"
   ]
  },
  {
   "cell_type": "code",
   "execution_count": null,
   "metadata": {
    "collapsed": true
   },
   "outputs": [],
   "source": [
    "sopa = BeautifulSoup(doc_html, 'html.parser')\n",
    "print(sopa)"
   ]
  },
  {
   "cell_type": "code",
   "execution_count": null,
   "metadata": {
    "collapsed": true
   },
   "outputs": [],
   "source": [
    "print(sopa.prettify()[0:350])"
   ]
  },
  {
   "cell_type": "markdown",
   "metadata": {},
   "source": [
    "### Objetos Tag\n"
   ]
  },
  {
   "cell_type": "markdown",
   "metadata": {},
   "source": [
    "#### Trabalhando com nomes"
   ]
  },
  {
   "cell_type": "code",
   "execution_count": null,
   "metadata": {},
   "outputs": [],
   "source": [
    "sopa = BeautifulSoup('<b body=\"description\">O primeiro e o mais querido podcast sobre ciência de dados no Brasil</b>',\n",
    "                     'html.parser')\n",
    "\n",
    "tag = sopa.b\n",
    "type(tag)"
   ]
  },
  {
   "cell_type": "code",
   "execution_count": null,
   "metadata": {},
   "outputs": [],
   "source": [
    "print(tag)"
   ]
  },
  {
   "cell_type": "code",
   "execution_count": null,
   "metadata": {},
   "outputs": [],
   "source": [
    "tag.name"
   ]
  },
  {
   "cell_type": "code",
   "execution_count": null,
   "metadata": {},
   "outputs": [],
   "source": [
    "tag.name = 'podcast'\n",
    "tag"
   ]
  },
  {
   "cell_type": "code",
   "execution_count": null,
   "metadata": {},
   "outputs": [],
   "source": [
    "tag.name"
   ]
  },
  {
   "cell_type": "markdown",
   "metadata": {},
   "source": [
    "#### Trabalhando com atributos"
   ]
  },
  {
   "cell_type": "code",
   "execution_count": null,
   "metadata": {},
   "outputs": [],
   "source": [
    "tag['body']"
   ]
  },
  {
   "cell_type": "code",
   "execution_count": null,
   "metadata": {},
   "outputs": [],
   "source": [
    "tag.attrs"
   ]
  },
  {
   "cell_type": "code",
   "execution_count": null,
   "metadata": {},
   "outputs": [],
   "source": [
    "tag['id'] = 3\n",
    "tag.attrs"
   ]
  },
  {
   "cell_type": "code",
   "execution_count": null,
   "metadata": {},
   "outputs": [],
   "source": [
    "tag"
   ]
  },
  {
   "cell_type": "code",
   "execution_count": null,
   "metadata": {},
   "outputs": [],
   "source": [
    "del tag['body']\n",
    "tag"
   ]
  },
  {
   "cell_type": "code",
   "execution_count": null,
   "metadata": {},
   "outputs": [],
   "source": [
    "tag.attrs"
   ]
  },
  {
   "cell_type": "markdown",
   "metadata": {},
   "source": [
    "#### Usando tags"
   ]
  },
  {
   "cell_type": "code",
   "execution_count": null,
   "metadata": {},
   "outputs": [],
   "source": [
    "sopa = BeautifulSoup(doc_html, 'html.parser')\n",
    "sopa.head"
   ]
  },
  {
   "cell_type": "code",
   "execution_count": null,
   "metadata": {},
   "outputs": [],
   "source": [
    "sopa.title"
   ]
  },
  {
   "cell_type": "code",
   "execution_count": null,
   "metadata": {},
   "outputs": [],
   "source": [
    "sopa.body"
   ]
  }
 ],
 "metadata": {
  "anaconda-cloud": {},
  "kernelspec": {
   "display_name": "Python 3",
   "language": "python",
   "name": "python3"
  },
  "language_info": {
   "codemirror_mode": {
    "name": "ipython",
    "version": 3
   },
   "file_extension": ".py",
   "mimetype": "text/x-python",
   "name": "python",
   "nbconvert_exporter": "python",
   "pygments_lexer": "ipython3",
   "version": "3.6.2"
  }
 },
 "nbformat": 4,
 "nbformat_minor": 2
}