{
 "metadata": {
  "language_info": {
   "codemirror_mode": {
    "name": "ipython",
    "version": 3
   },
   "file_extension": ".py",
   "mimetype": "text/x-python",
   "name": "python",
   "nbconvert_exporter": "python",
   "pygments_lexer": "ipython3",
   "version": "3.9.1"
  },
  "orig_nbformat": 2,
  "kernelspec": {
   "name": "python391jvsc74a57bd063fd5069d213b44bf678585dea6b12cceca9941eaf7f819626cde1f2670de90d",
   "display_name": "Python 3.9.1 64-bit"
  },
  "metadata": {
   "interpreter": {
    "hash": "63fd5069d213b44bf678585dea6b12cceca9941eaf7f819626cde1f2670de90d"
   }
  }
 },
 "nbformat": 4,
 "nbformat_minor": 2,
 "cells": [
  {
   "cell_type": "code",
   "execution_count": null,
   "metadata": {},
   "outputs": [],
   "source": []
  },
  {
   "cell_type": "code",
   "execution_count": 15,
   "metadata": {},
   "outputs": [],
   "source": [
    "import pandas as pd\n",
    "from IPython.display import display\n",
    "from tensorflow import keras\n",
    "from tensorflow.keras import layers\n",
    "\n",
    "data = 'C:/Users/crist/Desktop/Python_Stuff/red-wine.csv'\n",
    "wine_data = pd.read_csv(data)"
   ]
  },
  {
   "source": [
    "## Creating training and validation splits"
   ],
   "cell_type": "code",
   "metadata": {},
   "execution_count": 16,
   "outputs": []
  },
  {
   "cell_type": "code",
   "execution_count": 17,
   "metadata": {},
   "outputs": [
    {
     "output_type": "display_data",
     "data": {
      "text/plain": "      fixed acidity  volatile acidity  citric acid  residual sugar  chlorides  \\\n1109           10.8             0.470         0.43            2.10      0.171   \n1032            8.1             0.820         0.00            4.10      0.095   \n1002            9.1             0.290         0.33            2.05      0.063   \n487            10.2             0.645         0.36            1.80      0.053   \n979            12.2             0.450         0.49            1.40      0.075   \n\n      free sulfur dioxide  total sulfur dioxide  density    pH  sulphates  \\\n1109                 27.0                  66.0  0.99820  3.17       0.76   \n1032                  5.0                  14.0  0.99854  3.36       0.53   \n1002                 13.0                  27.0  0.99516  3.26       0.84   \n487                   5.0                  14.0  0.99820  3.17       0.42   \n979                   3.0                   6.0  0.99690  3.13       0.63   \n\n      alcohol  quality  \n1109     10.8        6  \n1032      9.6        5  \n1002     11.7        7  \n487      10.0        6  \n979      10.4        5  ",
      "text/html": "<div>\n<style scoped>\n    .dataframe tbody tr th:only-of-type {\n        vertical-align: middle;\n    }\n\n    .dataframe tbody tr th {\n        vertical-align: top;\n    }\n\n    .dataframe thead th {\n        text-align: right;\n    }\n</style>\n<table border=\"1\" class=\"dataframe\">\n  <thead>\n    <tr style=\"text-align: right;\">\n      <th></th>\n      <th>fixed acidity</th>\n      <th>volatile acidity</th>\n      <th>citric acid</th>\n      <th>residual sugar</th>\n      <th>chlorides</th>\n      <th>free sulfur dioxide</th>\n      <th>total sulfur dioxide</th>\n      <th>density</th>\n      <th>pH</th>\n      <th>sulphates</th>\n      <th>alcohol</th>\n      <th>quality</th>\n    </tr>\n  </thead>\n  <tbody>\n    <tr>\n      <th>1109</th>\n      <td>10.8</td>\n      <td>0.470</td>\n      <td>0.43</td>\n      <td>2.10</td>\n      <td>0.171</td>\n      <td>27.0</td>\n      <td>66.0</td>\n      <td>0.99820</td>\n      <td>3.17</td>\n      <td>0.76</td>\n      <td>10.8</td>\n      <td>6</td>\n    </tr>\n    <tr>\n      <th>1032</th>\n      <td>8.1</td>\n      <td>0.820</td>\n      <td>0.00</td>\n      <td>4.10</td>\n      <td>0.095</td>\n      <td>5.0</td>\n      <td>14.0</td>\n      <td>0.99854</td>\n      <td>3.36</td>\n      <td>0.53</td>\n      <td>9.6</td>\n      <td>5</td>\n    </tr>\n    <tr>\n      <th>1002</th>\n      <td>9.1</td>\n      <td>0.290</td>\n      <td>0.33</td>\n      <td>2.05</td>\n      <td>0.063</td>\n      <td>13.0</td>\n      <td>27.0</td>\n      <td>0.99516</td>\n      <td>3.26</td>\n      <td>0.84</td>\n      <td>11.7</td>\n      <td>7</td>\n    </tr>\n    <tr>\n      <th>487</th>\n      <td>10.2</td>\n      <td>0.645</td>\n      <td>0.36</td>\n      <td>1.80</td>\n      <td>0.053</td>\n      <td>5.0</td>\n      <td>14.0</td>\n      <td>0.99820</td>\n      <td>3.17</td>\n      <td>0.42</td>\n      <td>10.0</td>\n      <td>6</td>\n    </tr>\n    <tr>\n      <th>979</th>\n      <td>12.2</td>\n      <td>0.450</td>\n      <td>0.49</td>\n      <td>1.40</td>\n      <td>0.075</td>\n      <td>3.0</td>\n      <td>6.0</td>\n      <td>0.99690</td>\n      <td>3.13</td>\n      <td>0.63</td>\n      <td>10.4</td>\n      <td>5</td>\n    </tr>\n  </tbody>\n</table>\n</div>"
     },
     "metadata": {}
    }
   ],
   "source": [
    "df_train = wine_data.sample(frac = 0.7, random_state= 0)\n",
    "df_valid = wine_data.drop(df_train.index)\n",
    "display(df_train.head())\n"
   ]
  },
  {
   "source": [
    "## Scale to (0, 1)"
   ],
   "cell_type": "markdown",
   "metadata": {}
  },
  {
   "cell_type": "code",
   "execution_count": 18,
   "metadata": {},
   "outputs": [],
   "source": [
    "max_ = df_train.max(axis = 0)\n",
    "min_ = df_train.min(axis= 0)\n",
    "df_train = (df_train - min_) / (max_ - min_)\n",
    "df_valid = (df_valid - min_) / (max_ - min_)"
   ]
  },
  {
   "source": [
    "## Splitting features and target"
   ],
   "cell_type": "markdown",
   "metadata": {}
  },
  {
   "cell_type": "code",
   "execution_count": 19,
   "metadata": {},
   "outputs": [],
   "source": [
    "X_train = df_train.drop('quality', axis = 1)\n",
    "X_valid = df_valid.drop('quality', axis= 1)\n",
    "y_train = df_train['quality']\n",
    "y_valid = df_valid['quality']"
   ]
  },
  {
   "source": [
    "## Building a model"
   ],
   "cell_type": "markdown",
   "metadata": {}
  },
  {
   "cell_type": "code",
   "execution_count": 20,
   "metadata": {},
   "outputs": [],
   "source": [
    "model = keras.Sequential([\n",
    "layers.Dense(512, activation = 'relu', input_shape = [11]),\n",
    "layers.Dense(512, activation = 'relu'),\n",
    "layers.Dense(512, activation = 'relu'),\n",
    "layers.Dense(1)\n",
    "\n",
    "])"
   ]
  },
  {
   "cell_type": "code",
   "execution_count": null,
   "metadata": {},
   "outputs": [],
   "source": [
    "## Compiling the optimizer and loss function"
   ]
  }
 ]
}