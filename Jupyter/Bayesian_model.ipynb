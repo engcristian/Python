{
 "metadata": {
  "language_info": {
   "codemirror_mode": {
    "name": "ipython",
    "version": 3
   },
   "file_extension": ".py",
   "mimetype": "text/x-python",
   "name": "python",
   "nbconvert_exporter": "python",
   "pygments_lexer": "ipython3",
   "version": "3.9.1"
  },
  "orig_nbformat": 2,
  "kernelspec": {
   "name": "python391jvsc74a57bd063fd5069d213b44bf678585dea6b12cceca9941eaf7f819626cde1f2670de90d",
   "display_name": "Python 3.9.1 64-bit"
  },
  "metadata": {
   "interpreter": {
    "hash": "63fd5069d213b44bf678585dea6b12cceca9941eaf7f819626cde1f2670de90d"
   }
  }
 },
 "nbformat": 4,
 "nbformat_minor": 2,
 "cells": [
  {
   "source": [
    "___\n",
    "# Bayesian analysis\n",
    "## Applying Neive Bayes modeling to predict spam\n",
    "___"
   ],
   "cell_type": "markdown",
   "metadata": {}
  },
  {
   "cell_type": "code",
   "execution_count": 4,
   "metadata": {},
   "outputs": [],
   "source": [
    "import numpy as np \n",
    "import urllib\n",
    "import sklearn\n",
    "from sklearn.naive_bayes import BernoulliNB\n",
    "from sklearn.naive_bayes import GaussianNB\n",
    "from sklearn.naive_bayes import MultinomialNB\n",
    "from sklearn.model_selection import train_test_split\n",
    "from sklearn.metrics import accuracy_score"
   ]
  },
  {
   "source": [
    "url = \"https://archive.ics.uci.edu/ml/machine-learning-databases/spambase/spambase.data\"\n",
    "\n",
    "df = urllib.request.urlopen(url)\n",
    "dados = np.loadtxt(df, delimiter =',')\n",
    "\n",
    "print(dados[0])"
   ],
   "cell_type": "code",
   "metadata": {},
   "execution_count": null,
   "outputs": []
  },
  {
   "source": [
    "X = df[:,0:48]\n",
    "y = df[:, -1]"
   ],
   "cell_type": "code",
   "metadata": {},
   "execution_count": null,
   "outputs": []
  },
  {
   "source": [
    "X_train, X_test, y_train, y_test = train_test_split(X, y, test_size = .33, random_state= 17)"
   ],
   "cell_type": "code",
   "metadata": {},
   "execution_count": null,
   "outputs": []
  },
  {
   "source": [
    "## Gaussian model"
   ],
   "cell_type": "markdown",
   "metadata": {}
  },
  {
   "cell_type": "code",
   "execution_count": null,
   "metadata": {},
   "outputs": [],
   "source": [
    "GNB = GaussianNB()\n",
    "GNB.fit(X_train, y_train)\n",
    "\n",
    "G_pred = GNB.predict(X_test)\n",
    "G_score = accuracy_score (G_pred, y_test)\n",
    "print(G_score)"
   ]
  },
  {
   "source": [
    "## Multinomial model"
   ],
   "cell_type": "markdown",
   "metadata": {}
  },
  {
   "cell_type": "code",
   "execution_count": null,
   "metadata": {},
   "outputs": [],
   "source": [
    "MNB = MultinomialNB()\n",
    "MNB.fit(X_train, y_train)\n",
    "\n",
    "M_pred = MNB.predict(X_test)\n",
    "M_score = accuracy_score(M_pred, y_test)\n",
    "print(M_score)\n"
   ]
  },
  {
   "source": [
    "## Bernoulli model"
   ],
   "cell_type": "markdown",
   "metadata": {}
  },
  {
   "cell_type": "code",
   "execution_count": null,
   "metadata": {},
   "outputs": [],
   "source": [
    "BNB = BernoulliNB(binarize =  True)\n",
    "BNB.fit(X_train, y_train)\n",
    "\n",
    "B_pred = BNB.predict(X_test)\n",
    "B_score = accuracy_score(B_pred, y_test)\n",
    "print(B_score)"
   ]
  },
  {
   "source": [
    "## Modifying Bernoulli model with binarize = 0.1"
   ],
   "cell_type": "markdown",
   "metadata": {}
  },
  {
   "source": [
    "BNB_2 =  BernoulliNB(binarize=0.1)\n",
    "BNB_2.fit(X_train, y_train)\n",
    "B_pred_2 = BNB_2.predict(X_test)\n",
    "\n",
    "B2_score = accuracy_score(B_pred_2, y_test)\n",
    "print(B2_score)"
   ],
   "cell_type": "code",
   "metadata": {},
   "execution_count": null,
   "outputs": []
  }
 ]
}