{
 "metadata": {
  "language_info": {
   "codemirror_mode": {
    "name": "ipython",
    "version": 3
   },
   "file_extension": ".py",
   "mimetype": "text/x-python",
   "name": "python",
   "nbconvert_exporter": "python",
   "pygments_lexer": "ipython3",
   "version": "3.9.1-final"
  },
  "orig_nbformat": 2,
  "kernelspec": {
   "name": "python3",
   "display_name": "Python 3.9.1 64-bit",
   "metadata": {
    "interpreter": {
     "hash": "63fd5069d213b44bf678585dea6b12cceca9941eaf7f819626cde1f2670de90d"
    }
   }
  }
 },
 "nbformat": 4,
 "nbformat_minor": 2,
 "cells": [
  {
   "cell_type": "code",
   "execution_count": 15,
   "metadata": {},
   "outputs": [
    {
     "output_type": "stream",
     "name": "stdout",
     "text": [
      
     ]
    }
   ],
   "source": [
    "'''\n",
    "How to send many emails using python and showing in details the diferents elements from dataframe.\n",
    "Sendiang an email to directorship diferently from stores, in total 26 emails sent.\n",
    "'''\n",
    "\n",
    "import pandas as pd\n",
    "import smtplib\n",
    "import email.message\n",
    "#here you'll type your password, to keep this program more safety.\n",
    "email_password = input('Type your password: ')\n",
    "#using a function to send email automaticaly by Python\n",
    "def send_email(store_resume, store):\n",
    "    server = smtplib.SMTP('smtp.gmail.com:587')  \n",
    "     #put here the message for the e-mail body\n",
    "    corpo_email = f'''\n",
    "    <p>This e-mail is a test for this project, below you can see\n",
    "    a dataframe from the main Shoppings in Brazil</p>\n",
    "    {store_resume.to_html()}\n",
    "    <p> Thank yoou</p>      \n",
    "    '''\n",
    "\n",
    "    msg = email.message.Message()\n",
    "    msg['Subject'] = \"Email subject\" #Change the e-mail's subject here\n",
    "    \n",
    "    \n",
    "    msg['From'] = 'your_email@gmail.com' #insert the e-mail that will send\n",
    "    msg['To'] = 'rceiver@anyemail.com' # the email that will receive\n",
    "    #here your password is hidden, so only when the program is running that you'll insert your email\n",
    "    password = email_password \n",
    "    msg.add_header('Content-Type', 'text/html')\n",
    "    msg.set_payload(corpo_email )\n",
    "    \n",
    "    s = smtplib.SMTP('smtp.gmail.com: 587')\n",
    "    s.starttls()\n",
    "    # Login Credentials for sending the mail\n",
    "    s.login(msg['From'], password)\n",
    "    s.sendmail(msg['From'], [msg['To']], msg.as_string().encode('utf-8'))\n",
    "    print('Email sent')\n",
    "\n",
    "#Reading the xlsx dataframe\n",
    "df = pd.read_excel('python-projects/Vendas.xlsx')\n",
    "#Getting the billing from the dataframe ID Loja and Valor Final\n",
    "billing = df[['ID Loja', 'Valor Final']].groupby('ID Loja').sum()\n",
    "#Sorting the elements from billing by False ascending\n",
    "billing = billing.sort_values(by='Valor Final', ascending=False)\n",
    "#Doing the same to get the amount from each Shopping by ID Loja and Quantidade\n",
    "amount = df[['ID Loja', 'Quantidade']].groupby('ID Loja').sum()\n",
    "#Also sorting the elements from amount by False ascending\n",
    "amount = amount.sort_values(by='ID Loja', ascending=False)\n",
    "#calculating the average tickt from each shopping\n",
    "average_ticket = (billing['Valor Final']/amount['Quantidade']).to_frame()\n",
    "#Renaming the column 0 to Average Ticket\n",
    "average_ticket = average_ticket.rename(columns={0:'Average Ticket'})\n",
    "#Sorting the elements from average ticket by false ascending\n",
    "average_ticket = average_ticket.sort_values(by='Average Ticket', ascending=False)\n",
    "#Selecting only the stores' name from each shopping\n",
    "stores= df['ID Loja'].unique()\n",
    "#email for the directorship with more informations\n",
    "director_resume = billing.join(amount).join(average_ticket)\n",
    "send_email(director_resume, 'All stores')\n",
    "#Using FOR to create a repetition beteween 25 shoppings while sending emails\n",
    "for store in stores:\n",
    "    store_index = df.loc[df['ID Loja'] == store, ['ID Loja','Valor Final','Quantidade']]\n",
    "    store_resume = store_index.groupby('ID Loja').sum()\n",
    "    store_resume['Average Ticket']  = store_resume['Valor Final'] / store_resume['Quantidade']\n",
    "    send_email(store_resume, stores)\n",
    "\n",
    "\n"
   ]
  },
  {
   "cell_type": "code",
   "execution_count": null,
   "metadata": {},
   "outputs": [],
   "source": []
  }
 ]
}
