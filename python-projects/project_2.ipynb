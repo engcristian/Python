{
  "nbformat": 4,
  "nbformat_minor": 0,
  "metadata": {
    "colab": {
      "name": "project_2.ipynb",
      "provenance": [],
      "collapsed_sections": []
    },
    "kernelspec": {
      "name": "python3",
      "display_name": "Python 3.9.1 64-bit",
      "metadata": {
        "interpreter": {
          "hash": "63fd5069d213b44bf678585dea6b12cceca9941eaf7f819626cde1f2670de90d"
        }
      }
    }
  },
  "cells": [
    {
      "source": [
        "import pandas as pd\n",
        "#importing the clients bank data\n",
        "clients_df = pd.read_csv('ClientesBanco.csv', encoding='latin1')\n",
        "#deleting the unecessary columns\n",
        "clients_df = clients_df.drop('CLIENTNUM', axis = 1)\n",
        "display(clients_df)"
      ],
      "cell_type": "code",
      "metadata": {
        "id": "8E90RYA_QNF6"
      },
      "execution_count": null,
      "outputs": []
    },
    {
      "cell_type": "code",
      "metadata": {
        "id": "f4ihw5bXQldU"
      },
      "source": [
        "#Checking the dataframe info\r\n",
        "display(clients_df.info())"
      ],
      "execution_count": null,
      "outputs": []
    },
    {
      "cell_type": "code",
      "metadata": {
        "id": "XXCNPSNXQnr9"
      },
      "source": [
        "#Deleting all empty elements\r\n",
        "clients_df = clients_df.dropna()\r\n",
        "display(clients_df.info())"
      ],
      "execution_count": null,
      "outputs": []
    },
    {
      "cell_type": "code",
      "metadata": {
        "id": "6BKbGS0kQpkm"
      },
      "source": [
        "#Describe the values from the df\r\n",
        "display(clients_df.describe())"
      ],
      "execution_count": null,
      "outputs": []
    },
    {
      "cell_type": "code",
      "metadata": {
        "id": "X5w_7_wjQs0N"
      },
      "source": [
        "#analyzing the data [any columns] by numbers, or use value_counts(True) to check in %\r\n",
        "display(clients_df['Dependentes'].value_counts())"
      ],
      "execution_count": null,
      "outputs": []
    },
    {
      "source": [
        "#using a repetition FOR to get all graphics using 'Categoria' to differentiate\r\n",
        "for coluna in clients_df:\r\n",
        "  fig= px.histogram(clients_df, x= coluna, color='Categoria')\r\n",
        "  fig.show()"
      ],
      "cell_type": "code",
      "metadata": {
        "id": "SkmX4q8DUeip"
      },
      "execution_count": null,
      "outputs": []
    },
    {
      "source": [
        "#Analyzing all clients that are canceled and active by the column 'Categoria'\r\n",
        "import plotly.express as px\r\n",
        "fig =  px.histogram(clients_df,  x = 'Idade', color='Categoria')\r\n",
        "fig.show()"
      ],
      "cell_type": "code",
      "metadata": {
        "id": "Vddq7EiMQu33"
      },
      "execution_count": null,
      "outputs": []
    }
  ]
}